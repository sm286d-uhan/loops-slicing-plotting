{
 "cells": [
  {
   "cell_type": "markdown",
   "metadata": {
    "hide_cell": true
   },
   "source": [
    "<span class='note'><i>Make me look good.</i> Click on the cell below and press <kbd>Ctrl</kbd>+<kbd>Enter</kbd>.</span>"
   ]
  },
  {
   "cell_type": "code",
   "execution_count": null,
   "metadata": {
    "hide_cell": true
   },
   "outputs": [],
   "source": [
    "from IPython.core.display import HTML\n",
    "HTML(open('css/custom.css', 'r').read())"
   ]
  },
  {
   "cell_type": "markdown",
   "metadata": {
    "hide_cell": true
   },
   "source": [
    "<h5 class='prehead'>SM286D &middot; Introduction to Applied Mathematics with Python &middot; Spring 2020 &middot; Uhan</h5>\n",
    "\n",
    "<h5 class='lesson'>Lesson 2.</h5>\n",
    "\n",
    "<h1 class='lesson_title'>Loops, slicing, and plotting</h1>"
   ]
  },
  {
   "cell_type": "markdown",
   "metadata": {},
   "source": [
    "## This lesson..."
   ]
  },
  {
   "cell_type": "markdown",
   "metadata": {},
   "source": [
    "- Loops\n",
    "- Slicing\n",
    "- Building lists of numbers\n",
    "- Plotting with `matplotlib`"
   ]
  },
  {
   "cell_type": "markdown",
   "metadata": {},
   "source": [
    "---"
   ]
  },
  {
   "cell_type": "markdown",
   "metadata": {},
   "source": [
    "## Loops"
   ]
  },
  {
   "cell_type": "markdown",
   "metadata": {},
   "source": [
    "- A __for loop__ allows you to perform the same task or set of tasks on every item in a list.\n",
    "\n",
    "- For example, suppose we have a list of band member names. We can use a `for` loop to print each name in the list:"
   ]
  },
  {
   "cell_type": "code",
   "execution_count": null,
   "metadata": {},
   "outputs": [],
   "source": [
    "# A list containing the names of the members of The Band\n",
    "the_band = ['Robbie Robertson', 'Levon Helm', 'Richard Manuel', 'Rick Danko', 'Garth Hudson']\n",
    "\n",
    "# Print each member's name\n",
    "\n",
    "    \n",
    "# How do we write code outside the for loop?\n"
   ]
  },
  {
   "cell_type": "markdown",
   "metadata": {},
   "source": [
    "- Note the __indentation__ in the above code. In particular, the above code is <span class=\"rred\">not</span> the same as\n",
    "\n",
    "```python\n",
    "for name in the_band:\n",
    "print(name)\n",
    "```\n",
    "- Always use <kbd>Tab</kbd> to indent &ndash; this will keep your indentation consistent."
   ]
  },
  {
   "cell_type": "markdown",
   "metadata": {},
   "source": [
    "- Often we will want to write a `for` loop over consecutive integers. \n",
    "\n",
    "- We can do this using the `range()` function, like this:"
   ]
  },
  {
   "cell_type": "code",
   "execution_count": null,
   "metadata": {},
   "outputs": [],
   "source": [
    "# Print the first five integers, starting at 0\n"
   ]
  },
  {
   "cell_type": "markdown",
   "metadata": {},
   "source": [
    "- `range(n)` starts at `0`, increases by `1` until `n - 1`.\n",
    "- `range(start, stop)` starts at `start`, increases by `1` until `stop - 1`.\n",
    "- `range(start, stop, step)` starts at `start`, increases by `step` until `stop - 1` is reached or passed."
   ]
  },
  {
   "cell_type": "markdown",
   "metadata": {},
   "source": [
    "__Example.__ Use a `for` loop to print the even numbers starting at 10 and ending at 20."
   ]
  },
  {
   "cell_type": "code",
   "execution_count": null,
   "metadata": {},
   "outputs": [],
   "source": [
    "# Write your code here\n"
   ]
  },
  {
   "cell_type": "markdown",
   "metadata": {},
   "source": [
    "- We can use `for` loops to repeatedly do something to a variable.\n",
    "\n",
    "- For example, we can add the integers from 1 to 10:"
   ]
  },
  {
   "cell_type": "code",
   "execution_count": null,
   "metadata": {},
   "outputs": [],
   "source": [
    "# Create a variable to stored the total value\n",
    "\n",
    "\n",
    "# Add 1 to 10 to the total value, one at a time\n",
    "\n",
    "    # total += i is the same as total = total + i\n",
    "\n",
    "\n",
    "# Print the total\n"
   ]
  },
  {
   "cell_type": "markdown",
   "metadata": {},
   "source": [
    "- Let's take a look at what this code is doing step-by-step. Run the cell below, and a [Python Tutor](http://pythontutor.com) visualization should appear:\n",
    "    - You can use Python Tutor with your own code &mdash; just use the link above to go to the Python Tutor website."
   ]
  },
  {
   "cell_type": "code",
   "execution_count": null,
   "metadata": {},
   "outputs": [],
   "source": [
    "from IPython.display import IFrame\n",
    "IFrame('http://pythontutor.com/iframe-embed.html#code=%23%20Create%20a%20variable%20to%20stored%20the%20total%20value%0Atotal%20%3D%200%0A%0A%23%20Add%201%20to%2010%20to%20the%20total%20value,%20one%20at%20a%20time%0Afor%20i%20in%20range%281,%2011%29%3A%0A%20%20%20%20%23%20total%20%2B%3D%20i%20is%20the%20same%20as%20total%20%3D%20total%20%2B%20i%0A%20%20%20%20total%20%2B%3D%20i%0A%0A%23%20Print%20the%20total%0Aprint%28total%29&codeDivHeight=400&codeDivWidth=350&cumulative=false&curInstr=0&heapPrimitives=nevernest&origin=opt-frontend.js&py=3&rawInputLstJSON=%5B%5D&textReferences=false', width=800, height=450)"
   ]
  },
  {
   "cell_type": "markdown",
   "metadata": {},
   "source": [
    "- Note that `total += i` is indented, while `print(total)` is not indented.\n",
    "\n",
    "- These indentation levels are very important in Python code!\n",
    "\n",
    "- See what happens if you move the `print()` statement inside the `for` loop by changing its indentation level to match that of `total += i`."
   ]
  },
  {
   "cell_type": "markdown",
   "metadata": {},
   "source": [
    "---"
   ]
  },
  {
   "cell_type": "markdown",
   "metadata": {},
   "source": [
    "## Slicing lists"
   ]
  },
  {
   "cell_type": "markdown",
   "metadata": {},
   "source": [
    "- Recall list indexing from the previous lesson.\n",
    "\n",
    "- __Quick review.__ How do we get the 3rd element of the list defined below?"
   ]
  },
  {
   "cell_type": "code",
   "execution_count": null,
   "metadata": {},
   "outputs": [],
   "source": [
    "# Define a list of fruits\n",
    "fruits = ['banana', 'apple', 'pear', 'orange', 'grapes', 'watermelon', 'kiwi']\n",
    "\n",
    "# Print the 3rd element of the list of fruits\n"
   ]
  },
  {
   "cell_type": "markdown",
   "metadata": {},
   "source": [
    "- Slicing is like indexing on steroids. 🤪\n",
    "\n",
    "- A __slice__ is a specific group of items in a list.\n",
    "\n",
    "- `my_list[start:stop]` gives you a new list containing the elements of `my_list` whose indices start at `start` and end at `stop - 1`.\n",
    "\n",
    "- `my_list[start:stop:step]` gives you a new list containing the elements of `my_list` whose indices start at `start`, and increase by `step` until `stop - 1` is reached or passed."
   ]
  },
  {
   "cell_type": "code",
   "execution_count": null,
   "metadata": {},
   "outputs": [],
   "source": [
    "# Print the 3rd, 4th, and 5th fruits\n"
   ]
  },
  {
   "cell_type": "code",
   "execution_count": null,
   "metadata": {},
   "outputs": [],
   "source": [
    "# Print the 1st, 3rd, and 5th fruits\n"
   ]
  },
  {
   "cell_type": "markdown",
   "metadata": {},
   "source": [
    "- If you omit `start`, Python automatically starts your slice at the beginning of `my_list`.\n",
    "\n",
    "- If you omit `stop`, Python automatically ends your slice at the end of `my_list`.\n",
    "\n",
    "- If you omit `step`, Python automatically assumes a step value of 1."
   ]
  },
  {
   "cell_type": "code",
   "execution_count": null,
   "metadata": {},
   "outputs": [],
   "source": [
    "# Print the 4th fruit onwards\n"
   ]
  },
  {
   "cell_type": "markdown",
   "metadata": {},
   "source": [
    "---"
   ]
  },
  {
   "cell_type": "markdown",
   "metadata": {},
   "source": [
    "## Building lists of numbers"
   ]
  },
  {
   "cell_type": "markdown",
   "metadata": {},
   "source": [
    "### Using `list()` and `range()`"
   ]
  },
  {
   "cell_type": "markdown",
   "metadata": {},
   "source": [
    "- One task we'll need to do often is to build lists of numbers with a particular pattern.\n",
    "\n",
    "- One way to do this is to use `list()` with `range()`.\n",
    "\n",
    "- If we want a list of the integers between 1 and 5 (inclusive), we can write:"
   ]
  },
  {
   "cell_type": "code",
   "execution_count": null,
   "metadata": {
    "scrolled": true
   },
   "outputs": [],
   "source": [
    "# Create list of numbers between 1 and 5 inclusive\n",
    "\n",
    "\n",
    "# Print the list\n"
   ]
  },
  {
   "cell_type": "markdown",
   "metadata": {},
   "source": [
    "### Using `.append()`"
   ]
  },
  {
   "cell_type": "markdown",
   "metadata": {},
   "source": [
    "- We can add an item to the end of a list using `.append()`:"
   ]
  },
  {
   "cell_type": "code",
   "execution_count": null,
   "metadata": {},
   "outputs": [],
   "source": [
    "# Add guava to the list of fruits defined above\n",
    "\n",
    "\n",
    "# Print the list of fruits\n",
    "print(fruits)"
   ]
  },
  {
   "cell_type": "markdown",
   "metadata": {},
   "source": [
    "- So, to build a list of numbers, we can start with an empty list and add one number at a time to the list, like this:"
   ]
  },
  {
   "cell_type": "code",
   "execution_count": null,
   "metadata": {},
   "outputs": [],
   "source": [
    "# Start with empty list\n",
    "\n",
    "\n",
    "# Iterate over the numbers between 1 and 5\n",
    "# Add each of these numbers to the list\n",
    "\n",
    "   \n",
    "# Print the list\n"
   ]
  },
  {
   "cell_type": "markdown",
   "metadata": {},
   "source": [
    "- Let's take a look at what this code is doing step-by-step. Run the cell below to make the Python Tutor visualization appear:"
   ]
  },
  {
   "cell_type": "code",
   "execution_count": null,
   "metadata": {},
   "outputs": [],
   "source": [
    "from IPython.display import IFrame\n",
    "IFrame('http://pythontutor.com/iframe-embed.html#code=%23%20Start%20with%20empty%20list%0Aanother_integers%20%3D%20%5B%5D%0A%0A%23%20Iterate%20over%20the%20numbers%20between%201%20and%205%0A%23%20Add%20each%20of%20these%20numbers%20to%20the%20list%0Afor%20i%20in%20range%281,%206%29%3A%0A%20%20%20%20another_integers.append%28i%29%0A%20%20%20%0A%23%20Print%20the%20list%0Aprint%28another_integers%29&codeDivHeight=400&codeDivWidth=350&cumulative=false&curInstr=0&heapPrimitives=false&origin=opt-frontend.js&py=3&rawInputLstJSON=%5B%5D&textReferences=false', width=800, height=450)"
   ]
  },
  {
   "cell_type": "markdown",
   "metadata": {},
   "source": [
    "- This is more flexible, especially when the numbers you want to include are not consecutive integers."
   ]
  },
  {
   "cell_type": "markdown",
   "metadata": {},
   "source": [
    "__Example.__ Build a list of the decimal numbers $1.0, 1.1, 1.2, \\dots, 4.9, 5.0$. Print the list."
   ]
  },
  {
   "cell_type": "code",
   "execution_count": null,
   "metadata": {},
   "outputs": [],
   "source": [
    "# Write your code here\n"
   ]
  },
  {
   "cell_type": "markdown",
   "metadata": {},
   "source": [
    "---"
   ]
  },
  {
   "cell_type": "markdown",
   "metadata": {},
   "source": [
    "## Plotting with Matplotlib"
   ]
  },
  {
   "cell_type": "markdown",
   "metadata": {},
   "source": [
    "* If you want to do something in Python, there's a very good chance that there's a package that will help you out.\n",
    "\n",
    "* Anaconda, the Python distribution we're using in this class, comes with _many_ useful libraries.\n",
    "\n",
    "* You can also install libraries pretty easily &mdash; we'll do this later in the course. (Actually, we already did it with Pyomo.)"
   ]
  },
  {
   "cell_type": "markdown",
   "metadata": {},
   "source": [
    "- Matplotlib is a Python 2D plotting library that we will use throughout this course.\n",
    "    - Here's the Matplotlib [User's Guide](https://matplotlib.org/users/index.html)."
   ]
  },
  {
   "cell_type": "markdown",
   "metadata": {},
   "source": [
    "* To use Matplotlib, we first need to `import` it so that we can access its functions, like this:"
   ]
  },
  {
   "cell_type": "code",
   "execution_count": null,
   "metadata": {},
   "outputs": [],
   "source": [
    "import matplotlib.pyplot as plt"
   ]
  },
  {
   "cell_type": "markdown",
   "metadata": {},
   "source": [
    "* `as plt` in the cell above lets us refer to `matplotlib.pyplot` as `plt`.\n",
    "    - This helps us save some keystrokes and keeps our code a bit cleaner."
   ]
  },
  {
   "cell_type": "markdown",
   "metadata": {},
   "source": [
    "- The code cell below produces a plot of the parabola $y = x^2$ using Matplotlib.  \n",
    "    - Sometimes, you have to run the first cell with Matplotlib code twice in your Jupyter notebook in order for the image to appear."
   ]
  },
  {
   "cell_type": "code",
   "execution_count": null,
   "metadata": {},
   "outputs": [],
   "source": [
    "# Create a figure\n",
    "fig = plt.figure()\n",
    "\n",
    "# Draw axes on the figure\n",
    "ax = fig.add_subplot(1, 1, 1)\n",
    "\n",
    "# Create list of values on the x-axis between 0 and 5, with an increment of 0.1\n",
    "x_values = []\n",
    "for i in range(51):\n",
    "    x_values.append(0.1 * i)\n",
    "\n",
    "# Create list of corresponding y values\n",
    "y_values = []\n",
    "for x in x_values:\n",
    "    y_values.append(x**2)\n",
    "\n",
    "# Plot the data on the axes\n",
    "ax.plot(x_values, y_values)\n",
    "\n",
    "# Label the axes\n",
    "ax.set_xlabel('x')\n",
    "ax.set_ylabel('y')\n",
    "\n",
    "# Give the plot a title\n",
    "ax.set_title('A Parabola Using Matplotlib')\n",
    "\n",
    "# Show the figure\n",
    "plt.show()"
   ]
  },
  {
   "cell_type": "markdown",
   "metadata": {},
   "source": [
    "- Some notes about the above code:\n",
    "    - `x_values` and `y_values` are lists of the same size.\n",
    "    - `plt.plot(x_values, y_values)` plots the points\n",
    "            \n",
    "        (`x_values[0]`, `y_values[0]`), (`x_values[1]`, `y_values[1]`),  (`x_values[2]`, `y_values[2]`), ...\n",
    "        \n",
    "        and connects all these points (by default). You can change this behavior (connected or not connected, colors, shapes, etc.): see [the documentation](https://matplotlib.org/3.1.1/api/_as_gen/matplotlib.pyplot.plot.html).\n",
    "    - `ax.set_xlabel()` and `ax.set_ylabel()` label the horizontal and vertical axes, respectively. \n",
    "    - `ax.set_title()` sets the title for the axes."
   ]
  },
  {
   "cell_type": "markdown",
   "metadata": {},
   "source": [
    "---"
   ]
  },
  {
   "cell_type": "markdown",
   "metadata": {},
   "source": [
    "## Classwork &mdash; on your own!"
   ]
  },
  {
   "cell_type": "markdown",
   "metadata": {},
   "source": [
    "__Problem 1.__ (PCC 4-1: Pizzas) Think of at least three kinds of your favorite pizza. Store these pizza names in a list, and then use a `for` loop to print the name of each pizza.\n",
    "\n",
    "- Modify your `for` loop to print a sentence using the name of the pizza instead of printing just the name of the pizza. For each pizza you should have one line of output containing a simple statement like:\n",
    " \n",
    "```\n",
    "I like pepperoni pizza.\n",
    "```\n",
    "\n",
    "- Add a line at the end of your program, outside the for loop, that states how much you like pizza. The output should consist of three or more lines about the kinds of pizza you like and then an additional sentence, such as:\n",
    " \n",
    "```\n",
    "I really love pizza!\n",
    "```"
   ]
  },
  {
   "cell_type": "code",
   "execution_count": null,
   "metadata": {},
   "outputs": [],
   "source": [
    "# Write your code here\n"
   ]
  },
  {
   "cell_type": "markdown",
   "metadata": {},
   "source": [
    "__Problem 2.__ (PCC 4-11: My Pizzas, Your Pizzas) \n",
    "\n",
    "Read about copying lists on page 63 of PCC.\n",
    "\n",
    "Start with your code from Problem 1. Make a copy of the list of pizzas, and call it `friend_pizzas`. Then, do the following:\n",
    "\n",
    "- Add a new pizza to the original list.\n",
    "- Add a different pizza to the list `friend_pizzas`.\n",
    "- Prove that you have two separate lists. \n",
    "    - Print the message, `My favorite pizzas are:`, and then use a `for` loop to print the first list. \n",
    "    - Print the message, `My friend’s favorite pizzas are:`, and then use a `for` loop to print the second list. \n",
    "    - Make sure each new pizza is stored in the appropriate list."
   ]
  },
  {
   "cell_type": "code",
   "execution_count": null,
   "metadata": {},
   "outputs": [],
   "source": [
    "# Write your code here\n"
   ]
  },
  {
   "cell_type": "markdown",
   "metadata": {},
   "source": [
    "__Problem 3.__ (PCC 4-15: Code Review) \n",
    "\n",
    "Read about styling your code on pages 68-70 of PCC.\n",
    "\n",
    "Modify the code that you've written for Problems 1 and 2 to comply with PEP 8:\n",
    "\n",
    "- Use four spaces for each indentation level. Jupyter should do this automatically. \n",
    "- Use less than 80 characters on each line. Some Integrated Development Environments (like Spyder) show you a vertical guideline at the 80th character position, but Jupyter does not.\n",
    "- Don’t use blank lines excessively in your program files."
   ]
  },
  {
   "cell_type": "markdown",
   "metadata": {},
   "source": [
    "__Problem 4.__  Construct a list consisting of all the odd numbers from 1 to 55. Print the list."
   ]
  },
  {
   "cell_type": "code",
   "execution_count": null,
   "metadata": {},
   "outputs": [],
   "source": [
    "# Write your code here\n"
   ]
  },
  {
   "cell_type": "markdown",
   "metadata": {},
   "source": [
    "__Problem 5.__ Use a `for` loop to find $\\sum_{k=1}^{1000} \\frac{1}{k^3}$."
   ]
  },
  {
   "cell_type": "code",
   "execution_count": null,
   "metadata": {},
   "outputs": [],
   "source": [
    "# Write your code here\n"
   ]
  },
  {
   "cell_type": "markdown",
   "metadata": {},
   "source": [
    "__Problem 6.__ Using Matplotlib, plot a graph of $y = \\sin(x)$ for values of $x$ between 0 and 5. Use points on the $x$-axis that are 0.1 apart. Label your axes and title your plot.\n",
    "\n",
    "You can use the `sin()` function from the `math` library. Make sure to import the `math` library first:\n",
    "\n",
    "```python\n",
    "import math\n",
    "```\n",
    "\n",
    "Then to compute $\\sin(x)$, you can write `math.sin(x)`."
   ]
  },
  {
   "cell_type": "code",
   "execution_count": null,
   "metadata": {},
   "outputs": [],
   "source": [
    "# Write your code here\n"
   ]
  },
  {
   "cell_type": "markdown",
   "metadata": {},
   "source": [
    "__Problem 7.__  Compute the sum of the numbers 1, 2, ..., 1000. You can use a `for` loop, or you can use the `sum()` function applied to a list. \n",
    "\n",
    "<div style=\"font-size:90%;margin-top:2ex\">\n",
    "There is a story about Carl Friedrich Gauss, pictured below. This problem was assigned to his class when he was a child; his teacher anticipated being able to relax while the children worked. But Gauss summed the list immediately.<br>\n",
    "\n",
    "Let `L` be the list of numbers 1, 2, ..., 1000. Let `M = sorted(L, reverse=True)`. Add `L` and `M`. What do you notice? Is it easy to add the numbers in `L + M`? Can you do it in your head? How are the sums of `L`, `M` and `L + M` related? Can you see what Gauss did? If so, you should be able to give an algebraic expression for the sum of the numbers from 1 to 1000, without using Python. \n",
    "\n",
    "<img src=\"img/Gauss_banknote.png\">\n",
    "\n",
    "C. F. Gauss is featued on the German 10DM bill, alongside the graph of the Gaussian distribution from Statistics, buildings at the University of G&ouml;ttingen, and (on the reverse side), an outline of the German state of Hannover, which Gauss surveyed. Some of the greatest mathematicians were professors at G&ouml;ttingen, including Gauss, Riemann and Hilbert.\n",
    "</div>"
   ]
  },
  {
   "cell_type": "code",
   "execution_count": null,
   "metadata": {},
   "outputs": [],
   "source": [
    "# Write your code here\n"
   ]
  },
  {
   "cell_type": "markdown",
   "metadata": {},
   "source": [
    "__Problem 8.__  The Fibonacci numbers are defined in the following way. The first and second Fibonacci numbers $F_1$ and $F_2$ are both equal to 1. The following Fibonacci numbers are defined according to the rule \n",
    "\n",
    "\\begin{equation*}\n",
    "F_{n} = F_{n-1} + F_{n-2},\n",
    "\\end{equation*}\n",
    "\n",
    "for $n \\geq 3$. Create a list of the first 100 Fibonacci numbers. Print the list.\n",
    "\n",
    "_Hint._ Read about __negative indexing__ on page 35 of PCC.\n",
    "\n",
    "<div style=\"font-size:90%;margin-top:2ex\">\n",
    "<i>Note.</i> It is a fascinating fact that \n",
    "\\begin{equation*}\n",
    "F_n = \\left \\lfloor{\\frac{\\phi^n}{\\sqrt{5}} + \\frac{1}{2}} \\right \\rfloor,\n",
    "\\end{equation*}\n",
    "where \n",
    "\\begin{equation*}\n",
    "\\phi = \\frac{1+\\sqrt{5}}{2}\n",
    "\\end{equation*} \n",
    "    is the <i>golden ratio</i>. This is a situation where an approximate computation leads to a closed form formula. The Fibonacci numbers are so fascinating that a whole journal, the Fibonacci Quarterly, is devoted to their study. Consecutive Fibonacci numbers arise in many biological applications, including: the arrangements of leaves on a plant stem, the arrangement of pinecone bracts, and the fruit sprouts of a pineapple. See the image below for the appearance in Yellow Chamomile. <a href=\"https://commons.wikimedia.org/w/index.php?curid=15047443\">(source)</a>\n",
    "<img src=\"img/yc.png\">\n",
    "</div>"
   ]
  },
  {
   "cell_type": "code",
   "execution_count": null,
   "metadata": {
    "scrolled": true
   },
   "outputs": [],
   "source": [
    "# Write your code here\n"
   ]
  }
 ],
 "metadata": {
  "kernelspec": {
   "display_name": "Python 3",
   "language": "python",
   "name": "python3"
  },
  "language_info": {
   "codemirror_mode": {
    "name": "ipython",
    "version": 3
   },
   "file_extension": ".py",
   "mimetype": "text/x-python",
   "name": "python",
   "nbconvert_exporter": "python",
   "pygments_lexer": "ipython3",
   "version": "3.6.4"
  }
 },
 "nbformat": 4,
 "nbformat_minor": 2
}
