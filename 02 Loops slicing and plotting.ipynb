{
 "cells": [
  {
   "cell_type": "markdown",
   "metadata": {
    "hide_cell": true
   },
   "source": [
    "<span class='note'><i>Make me look good.</i> Click on the cell below and press <kbd>Ctrl</kbd>+<kbd>Enter</kbd>.</span>"
   ]
  },
  {
   "cell_type": "code",
   "execution_count": 1,
   "metadata": {
    "hide_cell": true
   },
   "outputs": [
    {
     "data": {
      "text/html": [
       "<link href='http://fonts.googleapis.com/css?family=Lora:400,700,400i,700i' rel='stylesheet'>\n",
       "<link href='https://fonts.googleapis.com/css?family=Lato:300,400,700,300i,400i,700i' rel='stylesheet'>\n",
       "<link href='https://fonts.googleapis.com/css?family=Inconsolata:400' rel='stylesheet'>\n",
       "<link rel=\"stylesheet\" href=\"http://maxcdn.bootstrapcdn.com/font-awesome/4.3.0/css/font-awesome.min.css\">\n",
       "<style>\n",
       "    h1, h2, h3, h4, h5 {\n",
       "        font-family: 'Lato', sans-serif;\n",
       "    }\n",
       "    h5 {\n",
       "        font-style: normal;\n",
       "    }\n",
       "    kbd {\n",
       "        font-family: Lato, serif;\n",
       "    }\n",
       "    hr {\n",
       "      border-width: 2px;\n",
       "      border-color: #a9a9a9;\n",
       "    }\n",
       "    .cite {\n",
       "        font-size: 85%;\n",
       "        text-align: right;\n",
       "        margin-top: 10px;\n",
       "    }\n",
       "    .note {\n",
       "        font-family: Lora, serif;\n",
       "        font-size: 10pt;\n",
       "        font-weight: 400;\n",
       "        margin-top: 0;\n",
       "        margin-bottom: 0;\n",
       "    }\n",
       "    h5.prehead {\n",
       "        font-family: Lato, serif;\n",
       "        font-style: normal;\n",
       "        font-size: 13pt;\n",
       "        font-weight: 300;\n",
       "        margin-bottom: 15px;\n",
       "        margin-top: 30px;\n",
       "    }\n",
       "    h5.lesson {\n",
       "        font-family: Lato, serif;\n",
       "        font-weight: 400;\n",
       "        font-size: 15pt;\n",
       "        font-style: normal;\n",
       "        margin-top: 0px;\n",
       "        margin-bottom: 5px;\n",
       "    }\n",
       "    h1.lesson_title {\n",
       "        font-family: Lato, serif;\n",
       "        font-weight: 300;\n",
       "        font-size: 32pt;\n",
       "        line-height: 110%;\n",
       "        color:#CD2305;\n",
       "        margin-top: 0px;\n",
       "        margin-bottom: 15px;\n",
       "    }\n",
       "    div.cell{\n",
       "        max-width: 960px;\n",
       "        margin-left: auto;\n",
       "        margin-right: auto;\n",
       "    }\n",
       "    div.text_cell_render {\n",
       "        font-family: Lora, serif;\n",
       "        line-height: 160%;\n",
       "        font-size: 11pt;\n",
       "    }\n",
       "    .rendered_html pre, .rendered_html code  {\n",
       "        font-family: Inconsolata, monospace !important;\n",
       "        font-size: 11pt;\n",
       "    }\n",
       "    div.CodeMirror, div.output_area pre, div.prompt {\n",
       "        font-family: Inconsolata, monospace !important;\n",
       "        font-size: 110%;\n",
       "    }\n",
       "    .rendered_html ul li {\n",
       "        margin-top: 0.75em;\n",
       "        margin-bottom: 0.75em;\n",
       "    }\n",
       "    .rendered_html ul li ul li {\n",
       "        margin-top: 0.5em;\n",
       "        margin-bottom: 0.5em;\n",
       "    }\n",
       "    .rred {\n",
       "        color: #a00000;\n",
       "    }\n",
       "</style>\n",
       "<script>\n",
       "    MathJax.Hub.Config({\n",
       "                        TeX: {\n",
       "                           extensions: [\"AMSmath.js\"]\n",
       "                           },\n",
       "                tex2jax: {\n",
       "                    inlineMath: [ ['$','$'], [\"\\\\(\",\"\\\\)\"] ],\n",
       "                    displayMath: [ ['$$','$$'], [\"\\\\[\",\"\\\\]\"] ]\n",
       "                },\n",
       "                displayAlign: 'center', // Change this to 'center' to center equations.\n",
       "                \"HTML-CSS\": {\n",
       "                    styles: {'.MathJax_Display': {\"margin\": \"0.75em 0\"}}\n",
       "                }\n",
       "        });\n",
       "</script>\n"
      ],
      "text/plain": [
       "<IPython.core.display.HTML object>"
      ]
     },
     "execution_count": 1,
     "metadata": {},
     "output_type": "execute_result"
    }
   ],
   "source": [
    "from IPython.core.display import HTML\n",
    "HTML(open('css/custom.css', 'r').read())"
   ]
  },
  {
   "cell_type": "markdown",
   "metadata": {
    "hide_cell": true
   },
   "source": [
    "<h5 class='prehead'>SM286D &middot; Introduction to Applied Mathematics with Python &middot; Spring 2020 &middot; Uhan</h5>\n",
    "\n",
    "<h5 class='lesson'>Lesson 2.</h5>\n",
    "\n",
    "<h1 class='lesson_title'>Loops, slicing, and plotting</h1>"
   ]
  },
  {
   "cell_type": "markdown",
   "metadata": {},
   "source": [
    "## This lesson..."
   ]
  },
  {
   "cell_type": "markdown",
   "metadata": {},
   "source": [
    "- Loops\n",
    "- Slicing\n",
    "- Building lists of numbers\n",
    "- Plotting with `matplotlib`"
   ]
  },
  {
   "cell_type": "markdown",
   "metadata": {},
   "source": [
    "---"
   ]
  },
  {
   "cell_type": "markdown",
   "metadata": {},
   "source": [
    "## Loops"
   ]
  },
  {
   "cell_type": "markdown",
   "metadata": {},
   "source": [
    "- A __for loop__ allows you to perform the same task or set of tasks on every item in a list.\n",
    "\n",
    "- For example, suppose we have a list of band member names. We can use a `for` loop to print each name in the list:"
   ]
  },
  {
   "cell_type": "code",
   "execution_count": 2,
   "metadata": {},
   "outputs": [
    {
     "name": "stdout",
     "output_type": "stream",
     "text": [
      "Robbie Robertson\n",
      "Levon Helm\n",
      "Richard Manuel\n",
      "Rick Danko\n",
      "Garth Hudson\n",
      "And those are the members of The Band!\n"
     ]
    }
   ],
   "source": [
    "# A list containing the names of the members of The Band\n",
    "the_band = ['Robbie Robertson', 'Levon Helm', 'Richard Manuel', 'Rick Danko', 'Garth Hudson']\n",
    "\n",
    "# Print each member's name\n",
    "for name in the_band:\n",
    "    print(name)\n",
    "    \n",
    "# How do we write code outside the for loop?\n",
    "print('And those are the members of The Band!')"
   ]
  },
  {
   "cell_type": "markdown",
   "metadata": {},
   "source": [
    "- Note the __indentation__ in the above code. In particular, the above code is <span class=\"rred\">not</span> the same as\n",
    "\n",
    "```python\n",
    "for name in the_band:\n",
    "print(name)\n",
    "```\n",
    "- Always use <kbd>Tab</kbd> to indent &ndash; this will keep your indentation consistent."
   ]
  },
  {
   "cell_type": "markdown",
   "metadata": {},
   "source": [
    "- Often we will want to write a `for` loop over consecutive integers. \n",
    "\n",
    "- We can do this using the `range()` function, like this:"
   ]
  },
  {
   "cell_type": "code",
   "execution_count": 3,
   "metadata": {},
   "outputs": [
    {
     "name": "stdout",
     "output_type": "stream",
     "text": [
      "0\n",
      "1\n",
      "2\n",
      "3\n",
      "4\n"
     ]
    }
   ],
   "source": [
    "# Print the first five integers, starting at 0\n",
    "for i in range(5):\n",
    "    print(i)"
   ]
  },
  {
   "cell_type": "markdown",
   "metadata": {},
   "source": [
    "- `range(n)` starts at `0`, increases by `1` until `n - 1`.\n",
    "- `range(start, stop)` starts at `start`, increases by `1` until `stop - 1`.\n",
    "- `range(start, stop, step)` starts at `start`, increases by `step` until `stop - 1` is reached or passed."
   ]
  },
  {
   "cell_type": "markdown",
   "metadata": {},
   "source": [
    "__Example.__ Use a `for` loop to print the even numbers starting at 10 and ending at 20."
   ]
  },
  {
   "cell_type": "code",
   "execution_count": 4,
   "metadata": {},
   "outputs": [
    {
     "name": "stdout",
     "output_type": "stream",
     "text": [
      "10\n",
      "12\n",
      "14\n",
      "16\n",
      "18\n",
      "20\n"
     ]
    }
   ],
   "source": [
    "# Write your code here\n",
    "for i in range(10, 21, 2):\n",
    "    print(i)"
   ]
  },
  {
   "cell_type": "markdown",
   "metadata": {},
   "source": [
    "- We can use `for` loops to repeatedly do something to a variable.\n",
    "\n",
    "- For example, we can add the integers from 1 to 10:"
   ]
  },
  {
   "cell_type": "code",
   "execution_count": 5,
   "metadata": {},
   "outputs": [
    {
     "name": "stdout",
     "output_type": "stream",
     "text": [
      "55\n"
     ]
    }
   ],
   "source": [
    "# Create a variable to stored the total value\n",
    "total = 0\n",
    "\n",
    "# Add 1 to 10 to the total value, one at a time\n",
    "for i in range(1, 11):\n",
    "    # total += n is the same as total = total + n\n",
    "    total += i\n",
    "\n",
    "print(total)"
   ]
  },
  {
   "cell_type": "markdown",
   "metadata": {},
   "source": [
    "- Let's take a look at what this code is doing step-by-step. Run the cell below, and a [Python Tutor](http://pythontutor.com) visualization should appear:\n",
    "    - You can use Python Tutor with your own code &mdash; just use the link above to go to the Python Tutor website."
   ]
  },
  {
   "cell_type": "code",
   "execution_count": 6,
   "metadata": {},
   "outputs": [
    {
     "data": {
      "text/html": [
       "\n",
       "        <iframe\n",
       "            width=\"800\"\n",
       "            height=\"450\"\n",
       "            src=\"http://pythontutor.com/iframe-embed.html#code=%23%20Create%20a%20variable%20to%20stored%20the%20total%20value%0Atotal%20%3D%200%0A%0A%23%20Add%201%20to%2010%20to%20the%20total%20value,%20one%20at%20a%20time%0Afor%20i%20in%20range%281,%2011%29%3A%0A%20%20%20%20%23%20total%20%2B%3D%20n%20is%20the%20same%20as%20total%20%3D%20total%20%2B%20n%0A%20%20%20%20total%20%2B%3D%20i%0A%0Aprint%28total%29&codeDivHeight=400&codeDivWidth=350&cumulative=false&curInstr=0&heapPrimitives=nevernest&origin=opt-frontend.js&py=3&rawInputLstJSON=%5B%5D&textReferences=false\"\n",
       "            frameborder=\"0\"\n",
       "            allowfullscreen\n",
       "        ></iframe>\n",
       "        "
      ],
      "text/plain": [
       "<IPython.lib.display.IFrame at 0x105531128>"
      ]
     },
     "execution_count": 6,
     "metadata": {},
     "output_type": "execute_result"
    }
   ],
   "source": [
    "from IPython.display import IFrame\n",
    "IFrame(\"http://pythontutor.com/iframe-embed.html#code=%23%20Create%20a%20variable%20to%20stored%20the%20total%20value%0Atotal%20%3D%200%0A%0A%23%20Add%201%20to%2010%20to%20the%20total%20value,%20one%20at%20a%20time%0Afor%20i%20in%20range%281,%2011%29%3A%0A%20%20%20%20%23%20total%20%2B%3D%20n%20is%20the%20same%20as%20total%20%3D%20total%20%2B%20n%0A%20%20%20%20total%20%2B%3D%20i%0A%0Aprint%28total%29&codeDivHeight=400&codeDivWidth=350&cumulative=false&curInstr=0&heapPrimitives=nevernest&origin=opt-frontend.js&py=3&rawInputLstJSON=%5B%5D&textReferences=false\", width=800, height=450)"
   ]
  },
  {
   "cell_type": "markdown",
   "metadata": {},
   "source": [
    "- Note that `total += i` is indented, while `print(total)` is not indented.\n",
    "\n",
    "- These indentation levels are very important in Python code!\n",
    "\n",
    "- See what happens if you move the `print()` statement inside the `for` loop by changing its indentation level to match that of `total += i`."
   ]
  },
  {
   "cell_type": "markdown",
   "metadata": {},
   "source": [
    "---"
   ]
  },
  {
   "cell_type": "markdown",
   "metadata": {},
   "source": [
    "## Slicing lists"
   ]
  },
  {
   "cell_type": "markdown",
   "metadata": {},
   "source": [
    "- Recall list indexing from the previous lesson.\n",
    "\n",
    "- __Quick review.__ How do we get the 3rd element of the list defined below?"
   ]
  },
  {
   "cell_type": "code",
   "execution_count": 7,
   "metadata": {},
   "outputs": [
    {
     "name": "stdout",
     "output_type": "stream",
     "text": [
      "pear\n"
     ]
    }
   ],
   "source": [
    "# Define a list of fruits\n",
    "fruits = ['banana', 'apple', 'pear', 'orange', 'grapes', 'watermelon', 'kiwi']\n",
    "\n",
    "# Print the 3rd element of the list of fruits\n",
    "print(fruits[2])"
   ]
  },
  {
   "cell_type": "markdown",
   "metadata": {},
   "source": [
    "- Slicing is like indexing on steroids. 🤪\n",
    "\n",
    "- A __slice__ is a specific group of items in a list.\n",
    "\n",
    "- `my_list[start:stop]` gives you a new list containing the elements of `my_list` whose indices start at `start` and end at `stop - 1`.\n",
    "\n",
    "- `my_list[start:stop:step]` gives you a new list containing the elements of `my_list` whose indices start at `start`, and increase by `step` until `stop - 1` is reached or passed."
   ]
  },
  {
   "cell_type": "code",
   "execution_count": 8,
   "metadata": {},
   "outputs": [
    {
     "name": "stdout",
     "output_type": "stream",
     "text": [
      "['pear', 'orange', 'grapes']\n"
     ]
    }
   ],
   "source": [
    "# Print the 3rd, 4th, and 5th fruits\n",
    "print(fruits[2:5])"
   ]
  },
  {
   "cell_type": "code",
   "execution_count": 9,
   "metadata": {},
   "outputs": [
    {
     "name": "stdout",
     "output_type": "stream",
     "text": [
      "['banana', 'pear', 'grapes']\n"
     ]
    }
   ],
   "source": [
    "# Print the 1st, 3rd, and 5th fruits\n",
    "print(fruits[0:5:2])"
   ]
  },
  {
   "cell_type": "markdown",
   "metadata": {},
   "source": [
    "- If you omit `start`, Python automatically starts your slice at the beginning of `my_list`\n",
    "\n",
    "- If you omit `stop`, Python automatically ends your slice at the end of `my_list`\n",
    "\n",
    "- If you omit `step`, Python automatically assumes a step value of 1."
   ]
  },
  {
   "cell_type": "code",
   "execution_count": 10,
   "metadata": {},
   "outputs": [
    {
     "name": "stdout",
     "output_type": "stream",
     "text": [
      "['orange', 'grapes', 'watermelon', 'kiwi']\n"
     ]
    }
   ],
   "source": [
    "# Print the 4th fruit onwards\n",
    "print(fruits[3:])"
   ]
  },
  {
   "cell_type": "markdown",
   "metadata": {},
   "source": [
    "---"
   ]
  },
  {
   "cell_type": "markdown",
   "metadata": {},
   "source": [
    "## Building lists of numbers"
   ]
  },
  {
   "cell_type": "markdown",
   "metadata": {},
   "source": [
    "### Using `list()` and `range()`"
   ]
  },
  {
   "cell_type": "markdown",
   "metadata": {},
   "source": [
    "- One task we'll need to do often is to build lists of numbers with a particular pattern.\n",
    "\n",
    "- One way to do this is to use `list()` with `range()`.\n",
    "\n",
    "- If we want a list of the integers between 1 and 5 (inclusive), we can write:"
   ]
  },
  {
   "cell_type": "code",
   "execution_count": 11,
   "metadata": {
    "scrolled": true
   },
   "outputs": [
    {
     "name": "stdout",
     "output_type": "stream",
     "text": [
      "[1, 2, 3, 4, 5]\n"
     ]
    }
   ],
   "source": [
    "# Create list of numbers between 1 and 5 inclusive\n",
    "integers = list(range(1, 6))\n",
    "\n",
    "# Print the list\n",
    "print(integers)"
   ]
  },
  {
   "cell_type": "markdown",
   "metadata": {},
   "source": [
    "### Using `.append()`"
   ]
  },
  {
   "cell_type": "markdown",
   "metadata": {},
   "source": [
    "- We can add an item to the end of a list using `.append()`:"
   ]
  },
  {
   "cell_type": "code",
   "execution_count": 12,
   "metadata": {},
   "outputs": [
    {
     "name": "stdout",
     "output_type": "stream",
     "text": [
      "['banana', 'apple', 'pear', 'orange', 'grapes', 'watermelon', 'kiwi', 'guava']\n"
     ]
    }
   ],
   "source": [
    "# Add guava to the list of fruits defined above\n",
    "fruits.append('guava')\n",
    "\n",
    "# Print the list of fruits\n",
    "print(fruits)"
   ]
  },
  {
   "cell_type": "markdown",
   "metadata": {},
   "source": [
    "- So, to build a list of numbers, we can start with an empty list and add one number at a time to the list, like this:"
   ]
  },
  {
   "cell_type": "code",
   "execution_count": 13,
   "metadata": {},
   "outputs": [
    {
     "name": "stdout",
     "output_type": "stream",
     "text": [
      "[1, 2, 3, 4, 5]\n"
     ]
    }
   ],
   "source": [
    "# Start with empty list\n",
    "another_integers = []\n",
    "\n",
    "# Iterate over the numbers between 1 and 5\n",
    "# Add each of these numbers to the list\n",
    "for i in range(1, 6):\n",
    "    another_integers.append(i)\n",
    "   \n",
    "# Print the list\n",
    "print(another_integers)"
   ]
  },
  {
   "cell_type": "markdown",
   "metadata": {},
   "source": [
    "- Let's take a look at what this code is doing step-by-step. Run the cell below to make the Python Tutor visualization appear:"
   ]
  },
  {
   "cell_type": "code",
   "execution_count": 14,
   "metadata": {},
   "outputs": [
    {
     "data": {
      "text/html": [
       "\n",
       "        <iframe\n",
       "            width=\"800\"\n",
       "            height=\"450\"\n",
       "            src=\"http://pythontutor.com/iframe-embed.html#code=%23%20Start%20with%20empty%20list%0Aanother_integers%20%3D%20%5B%5D%0A%0A%23%20Iterate%20over%20the%20numbers%20between%201%20and%205%0A%23%20Add%20each%20of%20these%20numbers%20to%20the%20list%0Afor%20i%20in%20range%281,%206%29%3A%0A%20%20%20%20another_integers.append%28i%29%0A%20%20%20%0A%23%20Print%20the%20list%0Aprint%28another_integers%29&codeDivHeight=400&codeDivWidth=350&cumulative=false&curInstr=0&heapPrimitives=false&origin=opt-frontend.js&py=3&rawInputLstJSON=%5B%5D&textReferences=false\"\n",
       "            frameborder=\"0\"\n",
       "            allowfullscreen\n",
       "        ></iframe>\n",
       "        "
      ],
      "text/plain": [
       "<IPython.lib.display.IFrame at 0x105531940>"
      ]
     },
     "execution_count": 14,
     "metadata": {},
     "output_type": "execute_result"
    }
   ],
   "source": [
    "IFrame(\"http://pythontutor.com/iframe-embed.html#code=%23%20Start%20with%20empty%20list%0Aanother_integers%20%3D%20%5B%5D%0A%0A%23%20Iterate%20over%20the%20numbers%20between%201%20and%205%0A%23%20Add%20each%20of%20these%20numbers%20to%20the%20list%0Afor%20i%20in%20range%281,%206%29%3A%0A%20%20%20%20another_integers.append%28i%29%0A%20%20%20%0A%23%20Print%20the%20list%0Aprint%28another_integers%29&codeDivHeight=400&codeDivWidth=350&cumulative=false&curInstr=0&heapPrimitives=false&origin=opt-frontend.js&py=3&rawInputLstJSON=%5B%5D&textReferences=false\", width=800, height=450)"
   ]
  },
  {
   "cell_type": "markdown",
   "metadata": {},
   "source": [
    "- This is more flexible, especially when the numbers you include are not consecutive integers."
   ]
  },
  {
   "cell_type": "markdown",
   "metadata": {},
   "source": [
    "__Example.__ Build a list of the decimal numbers $0.0, 0.1, 0.2, \\dots, 4.9, 5.0$. Print the list."
   ]
  },
  {
   "cell_type": "code",
   "execution_count": 15,
   "metadata": {},
   "outputs": [
    {
     "name": "stdout",
     "output_type": "stream",
     "text": [
      "[0.0, 0.1, 0.2, 0.30000000000000004, 0.4, 0.5, 0.6000000000000001, 0.7000000000000001, 0.8, 0.9, 1.0, 1.1, 1.2000000000000002, 1.3, 1.4000000000000001, 1.5, 1.6, 1.7000000000000002, 1.8, 1.9000000000000001, 2.0, 2.1, 2.2, 2.3000000000000003, 2.4000000000000004, 2.5, 2.6, 2.7, 2.8000000000000003, 2.9000000000000004, 3.0, 3.1, 3.2, 3.3000000000000003, 3.4000000000000004, 3.5, 3.6, 3.7, 3.8000000000000003, 3.9000000000000004, 4.0, 4.1000000000000005, 4.2, 4.3, 4.4, 4.5, 4.6000000000000005, 4.7, 4.800000000000001, 4.9, 5.0]\n"
     ]
    }
   ],
   "source": [
    "decimals = []\n",
    "\n",
    "for i in range(51):\n",
    "    decimals.append(0.1 * i)\n",
    "\n",
    "print(decimals)"
   ]
  },
  {
   "cell_type": "markdown",
   "metadata": {},
   "source": [
    "---"
   ]
  },
  {
   "cell_type": "markdown",
   "metadata": {},
   "source": [
    "## Plotting with Matplotlib"
   ]
  },
  {
   "cell_type": "markdown",
   "metadata": {},
   "source": [
    "* If you want to do something in Python, there's a very good chance that there's a package that will help you out.\n",
    "\n",
    "* Anaconda, the Python distribution we're using in this class, comes with _many_ useful libraries.\n",
    "\n",
    "* You can also install libraries pretty easily &mdash; we'll do this later in the course. (Actually, we already did it with Pyomo.)"
   ]
  },
  {
   "cell_type": "markdown",
   "metadata": {},
   "source": [
    "- Matplotlib is a Python 2D plotting library that we will use throughout this course.\n",
    "    - Here's the Matplotlib [User's Guide](https://matplotlib.org/users/index.html)."
   ]
  },
  {
   "cell_type": "markdown",
   "metadata": {},
   "source": [
    "* To use Matplotlib, we first need to `import` it so that we can access its functions, like this:"
   ]
  },
  {
   "cell_type": "code",
   "execution_count": 16,
   "metadata": {},
   "outputs": [],
   "source": [
    "import matplotlib.pyplot as plt"
   ]
  },
  {
   "cell_type": "markdown",
   "metadata": {},
   "source": [
    "* `as plt` in the cell above lets us refer to `matplotlib.pyplot` as `plt`.\n",
    "    - This helps us save some keystrokes and keeps our code a bit cleaner."
   ]
  },
  {
   "cell_type": "markdown",
   "metadata": {},
   "source": [
    "- The code cell below produces a plot of the parabola $y = x^2$ using Matplotlib.  \n",
    "    - Sometimes, you have to run the first cell with Matplotlib code twice in your Jupyter notebook in order for the image to appear."
   ]
  },
  {
   "cell_type": "code",
   "execution_count": 17,
   "metadata": {},
   "outputs": [
    {
     "data": {
      "image/png": "[encoded data removed]",
      "text/plain": [
       "<Figure size 432x288 with 1 Axes>"
      ]
     },
     "metadata": {},
     "output_type": "display_data"
    }
   ],
   "source": [
    "# Create a figure object\n",
    "fig = plt.figure()\n",
    "\n",
    "# Draw an axis object on the figure\n",
    "ax = fig.add_subplot(1, 1, 1)\n",
    "\n",
    "# Create list of values on the x-axis between 0 and 5, with an increment of 0.1\n",
    "x_values = []\n",
    "for i in range(51):\n",
    "    x_values.append(0.1 * i)\n",
    "\n",
    "# Create list of corresponding y values\n",
    "y_values = []\n",
    "for x in x_values:\n",
    "    y_values.append(x**2)\n",
    "\n",
    "# Plot the data\n",
    "plt.plot(x_values, y_values)\n",
    "\n",
    "# Label the axes\n",
    "ax.set_xlabel('x')\n",
    "ax.set_ylabel('y')\n",
    "\n",
    "# Give the plot a title\n",
    "plt.title('A Parabola Using Matplotlib')\n",
    "\n",
    "# Show the figure\n",
    "plt.show()"
   ]
  },
  {
   "cell_type": "markdown",
   "metadata": {},
   "source": [
    "- Some notes about the above code:\n",
    "    - `x_values` and `y_values` are lists of the same size.\n",
    "    - `plt.plot(x_values, y_values)` plots the points\n",
    "            \n",
    "        (`x_values[0]`, `y_values[0]`), (`x_values[1]`, `y_values[1]`),  (`x_values[2]`, `y_values[2]`), ...\n",
    "        \n",
    "        and connects all these points (by default). You can change this behavior (connected or not connected, colors, shapes, etc.): see [the documentation](https://matplotlib.org/3.1.1/api/_as_gen/matplotlib.pyplot.plot.html).\n",
    "    - `ax.set_xlabel()` and `ax.set_ylabel()` label the horizontal and vertical axes, respectively. \n",
    "    - `plt.title()` sets the plot title."
   ]
  },
  {
   "cell_type": "markdown",
   "metadata": {},
   "source": [
    "---"
   ]
  },
  {
   "cell_type": "markdown",
   "metadata": {},
   "source": [
    "## Classwork &mdash; on your own!"
   ]
  },
  {
   "cell_type": "markdown",
   "metadata": {},
   "source": [
    "__Problem 1.__ (PCC 4-1: Pizzas) Think of at least three kinds of your favorite pizza. Store these pizza names in a list, and then use a `for` loop to print the name of each pizza.\n",
    "\n",
    "- Modify your `for` loop to print a sentence using the name of the pizza instead of printing just the name of the pizza. For each pizza you should have one line of output containing a simple statement like:\n",
    " \n",
    "```\n",
    "I like pepperoni pizza.\n",
    "```\n",
    "\n",
    "- Add a line at the end of your program, outside the for loop, that states how much you like pizza. The output should consist of three or more lines about the kinds of pizza you like and then an additional sentence, such as:\n",
    " \n",
    "```\n",
    "I really love pizza!\n",
    "```"
   ]
  },
  {
   "cell_type": "code",
   "execution_count": 18,
   "metadata": {},
   "outputs": [
    {
     "name": "stdout",
     "output_type": "stream",
     "text": [
      "Mushroom\n",
      "Pepperoni\n",
      "Sausage and Pineapple\n",
      "I like Mushroom pizza.\n",
      "I like Pepperoni pizza.\n",
      "I like Sausage and Pineapple pizza.\n",
      "I really love pizza!\n"
     ]
    }
   ],
   "source": [
    "# Write your code here\n",
    "# Build list of pizzas\n",
    "pizzas = ['Mushroom', 'Pepperoni', 'Sausage and Pineapple']\n",
    "\n",
    "# Print pizza names\n",
    "for p in pizzas:\n",
    "    print(p)\n",
    "\n",
    "# Print sentences about pizzas\n",
    "for p in pizzas:\n",
    "    print(f\"I like {p} pizza.\")\n",
    "    \n",
    "# Print a final sentence about pizza\n",
    "print(\"I really love pizza!\")"
   ]
  },
  {
   "cell_type": "markdown",
   "metadata": {},
   "source": [
    "__Problem 2.__ (PCC 4-11: My Pizzas, Your Pizzas) \n",
    "\n",
    "Read about copying lists on page 63 of PCC.\n",
    "\n",
    "Start with your code from Problem 1. Make a copy of the list of pizzas, and call it `friend_pizzas`. Then, do the following:\n",
    "\n",
    "- Add a new pizza to the original list.\n",
    "- Add a different pizza to the list `friend_pizzas`.\n",
    "- Prove that you have two separate lists. \n",
    "    - Print the message, `My favorite pizzas are:`, and then use a `for` loop to print the first list. \n",
    "    - Print the message, `My friend’s favorite pizzas are:`, and then use a `for` loop to print the second list. \n",
    "    - Make sure each new pizza is stored in the appropriate list."
   ]
  },
  {
   "cell_type": "code",
   "execution_count": 19,
   "metadata": {},
   "outputs": [
    {
     "name": "stdout",
     "output_type": "stream",
     "text": [
      "My favorite pizzas are:\n",
      "Mushroom\n",
      "Pepperoni\n",
      "Sausage and Pineapple\n",
      "Black Olives\n",
      "My friend's favorite pizzas are:\n",
      "Mushroom\n",
      "Pepperoni\n",
      "Sausage and Pineapple\n",
      "Kale and Broccoli\n"
     ]
    }
   ],
   "source": [
    "# Write your code here\n",
    "# Create copy of list of pizza names called friend_pizzas\n",
    "friend_pizzas = pizzas[:]\n",
    "\n",
    "# Add a new pizza to the original list\n",
    "pizzas.append('Black Olives')\n",
    "\n",
    "# Add a different pizza to the new list\n",
    "friend_pizzas.append('Kale and Broccoli')\n",
    "\n",
    "# Print my favorite pizzas\n",
    "print(\"My favorite pizzas are:\")\n",
    "for p in pizzas: \n",
    "    print(p)\n",
    "    \n",
    "# Print my friend's favorite pizzas\n",
    "print(\"My friend's favorite pizzas are:\")\n",
    "for p in friend_pizzas: \n",
    "    print(p)"
   ]
  },
  {
   "cell_type": "markdown",
   "metadata": {},
   "source": [
    "__Problem 3.__ (PCC 4-15: Code Review) \n",
    "\n",
    "Read about styling your code on pages 68-70 of PCC.\n",
    "\n",
    "Modify the code that you've written for Problems 1 and 2 to comply with PEP 8:\n",
    "\n",
    "- Use four spaces for each indentation level. Jupyter should do this automatically. \n",
    "- Use less than 80 characters on each line. Some Integrated Development Environments (like Spyder) show you a vertical guideline at the 80th character position, but Jupyter does not.\n",
    "- Don’t use blank lines excessively in your program files."
   ]
  },
  {
   "cell_type": "markdown",
   "metadata": {},
   "source": [
    "__Problem 4.__  Construct a list consisting of all the odd numbers from 1 to 55. Print the list."
   ]
  },
  {
   "cell_type": "code",
   "execution_count": 20,
   "metadata": {},
   "outputs": [
    {
     "name": "stdout",
     "output_type": "stream",
     "text": [
      "[1, 3, 5, 7, 9, 11, 13, 15, 17, 19, 21, 23, 25, 27, 29, 31, 33, 35, 37, 39, 41, 43, 45, 47, 49, 51, 53, 55]\n",
      "[1, 3, 5, 7, 9, 11, 13, 15, 17, 19, 21, 23, 25, 27, 29, 31, 33, 35, 37, 39, 41, 43, 45, 47, 49, 51, 53, 55]\n"
     ]
    }
   ],
   "source": [
    "# Using list() and range()\n",
    "odd_numbers = list(range(1, 56, 2))\n",
    "print(odd_numbers)\n",
    "\n",
    "# Alternative solution: using .append()\n",
    "odd_numbers2 = []\n",
    "for i in range(28):\n",
    "    odd_numbers2.append(1 + 2 * i)\n",
    "print(odd_numbers2)"
   ]
  },
  {
   "cell_type": "markdown",
   "metadata": {},
   "source": [
    "__Problem 5.__ Use a `for` loop to find $\\sum_{k=1}^{1000} \\frac{1}{k^3}$."
   ]
  },
  {
   "cell_type": "code",
   "execution_count": 21,
   "metadata": {},
   "outputs": [
    {
     "ename": "SyntaxError",
     "evalue": "EOL while scanning string literal (<ipython-input-21-c15cde649506>, line 14)",
     "output_type": "error",
     "traceback": [
      "\u001b[0;36m  File \u001b[0;32m\"<ipython-input-21-c15cde649506>\"\u001b[0;36m, line \u001b[0;32m14\u001b[0m\n\u001b[0;31m    print(f'The sum evaluates to {total2}.'')\u001b[0m\n\u001b[0m                                             ^\u001b[0m\n\u001b[0;31mSyntaxError\u001b[0m\u001b[0;31m:\u001b[0m EOL while scanning string literal\n"
     ]
    }
   ],
   "source": [
    "# Initialize the total value of the sum to zero\n",
    "total = 0\n",
    "\n",
    "# Iterate k from 1 to 1000, adding 1/k^3 at each step\n",
    "for k in range(1, 1001):\n",
    "    total += (1 / k**3)\n",
    "print(f'The sum evaluates to {total}.')\n",
    "\n",
    "# Alternative solution: build a list of the values of 1/k^3 first, then use sum()\n",
    "values = []\n",
    "for k in range(1, 1001):\n",
    "    values.append(1 / k**3)\n",
    "total2 = sum(values)\n",
    "print(f'The sum evaluates to {total2}.'')"
   ]
  },
  {
   "cell_type": "markdown",
   "metadata": {},
   "source": [
    "__Problem 6.__ Using Matplotlib, plot a graph of $y = \\sin(x)$ for values of $x$ between 0 and 5. Use points on the $x$-axis that are 0.1 apart. Label your axes and title your plot.\n",
    "\n",
    "You can use the `sin()` function from the `math` library. Make sure to import the `math` library first:\n",
    "\n",
    "```python\n",
    "import math\n",
    "```\n",
    "\n",
    "Then to compute $\\sin(x)$, you can write `math.sin(x)`."
   ]
  },
  {
   "cell_type": "code",
   "execution_count": null,
   "metadata": {},
   "outputs": [],
   "source": [
    "import matplotlib.pyplot as plt\n",
    "import math\n",
    "\n",
    "# Create a figure object\n",
    "fig = plt.figure()\n",
    "\n",
    "# Draw an axis object on the figure\n",
    "ax = fig.add_subplot(111)\n",
    "\n",
    "# Create list of sample points on the x-axis\n",
    "# between 0 and 5, with an increment of 0.1.\n",
    "x_values = []\n",
    "for i in range(51):\n",
    "    x_values.append(0.1 * i)\n",
    "\n",
    "# Create list of corresponding points in the y-direction\n",
    "y_values = []\n",
    "for x in x_values:\n",
    "    y_values.append(math.sin(x))\n",
    "\n",
    "# Plot the data\n",
    "plt.plot(x_values, y_values)\n",
    "\n",
    "# Label the axes\n",
    "ax.set_xlabel('x')\n",
    "ax.set_ylabel('y')\n",
    "\n",
    "# Give the plot a title\n",
    "plt.title('sin(x)')\n",
    "\n",
    "# Show the figure\n",
    "plt.show()"
   ]
  },
  {
   "cell_type": "markdown",
   "metadata": {},
   "source": [
    "__Problem 7.__  Compute the sum of the numbers 1, 2, ..., 1000. You can use a `for` loop, or you can use the `sum()` function applied to a list. \n",
    "\n",
    "<div style=\"font-size:90%;margin-top:2ex\">\n",
    "There is a story about Carl Friedrich Gauss, pictured below. This problem was assigned to his class when he was a child; his teacher anticipated being able to relax while the children worked. But Gauss summed the list immediately.<br>\n",
    "\n",
    "Let `L` be the list of numbers 1, 2, ..., 1000. Let `M = sorted(L, reverse=True)`. Add `L` and `M`. What do you notice? Is it easy to add the numbers in `L + M`? Can you do it in your head? How are the sums of `L`, `M` and `L + M` related? Can you see what Gauss did? If so, you should be able to give an algebraic expression for the sum of the numbers from 1 to 1000, without using Python. \n",
    "\n",
    "<img src=\"img/Gauss_banknote.png\">\n",
    "\n",
    "C. F. Gauss is featued on the German 10DM bill, alongside the graph of the Gaussian distribution from Statistics, buildings at the University of G&ouml;ttingen, and (on the reverse side), an outline of the German state of Hannover, which Gauss surveyed. Some of the greatest mathematicians were professors at G&ouml;ttingen, including Gauss, Riemann and Hilbert.\n",
    "</div>"
   ]
  },
  {
   "cell_type": "code",
   "execution_count": null,
   "metadata": {},
   "outputs": [],
   "source": [
    "# Using a for loop\n",
    "sum_of_numbers = 0\n",
    "for i in range(0, 1001):\n",
    "    sum_of_numbers += i\n",
    "print(f'The sum of the numbers 1, 2, ..., 1000 is {sum_of_numbers}')\n",
    "\n",
    "# Using sum()\n",
    "list_of_numbers = list(range(0, 1001))\n",
    "sum_of_numbers2 = sum(list_of_numbers)\n",
    "print(f'The sum of the numbers 1, 2, ..., 1000 is {sum_of_numbers2}')"
   ]
  },
  {
   "cell_type": "markdown",
   "metadata": {},
   "source": [
    "__Problem 8.__  The Fibonacci numbers are defined in the following way. The first and second Fibonacci numbers $F_1$ and $F_2$ are both equal to 1. The following Fibonacci numbers are defined according to the rule \n",
    "\n",
    "\\begin{equation*}\n",
    "F_{n} = F_{n-1} + F_{n-2},\n",
    "\\end{equation*}\n",
    "\n",
    "for $n \\geq 3$. Create a list of the first 100 Fibonacci numbers. Print the list.\n",
    "\n",
    "_Hint._ Read about __negative indexing__ on page 35 of PCC.\n",
    "\n",
    "<div style=\"font-size:90%;margin-top:2ex\">\n",
    "<i>Note.</i> It is a fascinating fact that \n",
    "\\begin{equation*}\n",
    "F_n = \\left \\lfloor{\\frac{\\phi^n}{\\sqrt{5}} + \\frac{1}{2}} \\right \\rfloor,\n",
    "\\end{equation*}\n",
    "where \n",
    "\\begin{equation*}\n",
    "\\phi = \\frac{1+\\sqrt{5}}{2}\n",
    "\\end{equation*} \n",
    "    is the <i>golden ratio</i>. This is a situation where an approximate computation leads to a closed form formula. The Fibonacci numbers are so fascinating that a whole journal, the Fibonacci Quarterly, is devoted to their study. Consecutive Fibonacci numbers arise in many biological applications, including: the arrangements of leaves on a plant stem, the arrangement of pinecone bracts, and the fruit sprouts of a pineapple. See the image below for the appearance in Yellow Chamomile. <a href=\"https://commons.wikimedia.org/w/index.php?curid=15047443\">(source)</a>\n",
    "<img src=\"img/yc.png\">\n",
    "</div>"
   ]
  },
  {
   "cell_type": "code",
   "execution_count": null,
   "metadata": {
    "scrolled": true
   },
   "outputs": [],
   "source": [
    "# Write your code here\n",
    "fib = [1, 1]\n",
    "for i in range(0, 98):\n",
    "    fib.append(fib[-1] + fib[-2])\n",
    "    \n",
    "print(fib) "
   ]
  }
 ],
 "metadata": {
  "kernelspec": {
   "display_name": "Python 3",
   "language": "python",
   "name": "python3"
  },
  "language_info": {
   "codemirror_mode": {
    "name": "ipython",
    "version": 3
   },
   "file_extension": ".py",
   "mimetype": "text/x-python",
   "name": "python",
   "nbconvert_exporter": "python",
   "pygments_lexer": "ipython3",
   "version": "3.6.4"
  }
 },
 "nbformat": 4,
 "nbformat_minor": 2
}
